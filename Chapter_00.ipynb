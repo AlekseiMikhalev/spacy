{
 "cells": [
  {
   "cell_type": "markdown",
   "metadata": {},
   "source": [
    "# About this notebook\n",
    "\n",
    "This notebook is based on Ines Montani's free online course, available at:\n",
    "\n",
    "https://course.spacy.io/\n",
    "\n",
    "https://github.com/ines/spacy-course\n",
    "\n",
    "\n",
    "## How to install spacy:\n",
    "\n",
    "The instructions are in the link below :\n",
    "\n",
    "https://spacy.io/usage\n",
    "\n",
    "To install spacy, please use:\n",
    "\n",
    "- conda install -c conda-forge spacy\n",
    "\n",
    "This notebook is tested for version 2.1.3\n",
    "\n",
    "- As per May, 4th 2019, installing Spacy via \"conda install -c conda-forge spacy\" delivers 2.0.8 version so I used \"pip install -U spacy\" to have version 2.1.3 in my computer\n",
    "\n",
    "## How to download the models:\n",
    "\n",
    "https://github.com/explosion/spacy-models/releases/\n",
    "\n",
    "To download a model:\n",
    "\n",
    "- python -m spacy download pt\n",
    "- python -m spacy download en\n",
    "\n",
    "To download a model:\n",
    "- python -m spacy download en_core_web_sm\n",
    "- python -m spacy download pt_core_news_sm\n",
    "- python -m spacy download en_core_web_md\n",
    "- python -m spacy download pt_core_news_md - there is not... :-(\n",
    "\n",
    "## Using nbextensions\n",
    "\n",
    "I highly recommend you to install table of contents from nbextensions, that makes the navigation in the sections much more easier.\n",
    "\n",
    "Instructions can be found here:\n",
    "\n",
    "https://jupyter-contrib-nbextensions.readthedocs.io/en/latest/install.html\n",
    "\n",
    "- conda install -c conda-forge jupyter_contrib_nbextensions\n",
    "\n",
    "- jupyter nbextension enable toc2"
   ]
  },
  {
   "cell_type": "code",
   "execution_count": 1,
   "metadata": {},
   "outputs": [
    {
     "name": "stdout",
     "output_type": "stream",
     "text": [
      "2.1.3\n"
     ]
    }
   ],
   "source": [
    "import spacy\n",
    "print(spacy.__version__)"
   ]
  }
 ],
 "metadata": {
  "kernelspec": {
   "display_name": "Python 3",
   "language": "python",
   "name": "python3"
  },
  "language_info": {
   "codemirror_mode": {
    "name": "ipython",
    "version": 3
   },
   "file_extension": ".py",
   "mimetype": "text/x-python",
   "name": "python",
   "nbconvert_exporter": "python",
   "pygments_lexer": "ipython3",
   "version": "3.6.6"
  },
  "toc": {
   "base_numbering": 1,
   "nav_menu": {},
   "number_sections": false,
   "sideBar": false,
   "skip_h1_title": false,
   "title_cell": "Table of Contens",
   "title_sidebar": "Contents",
   "toc_cell": false,
   "toc_position": {
    "height": "calc(100% - 180px)",
    "left": "10px",
    "top": "150px",
    "width": "332.818px"
   },
   "toc_section_display": false,
   "toc_window_display": false
  }
 },
 "nbformat": 4,
 "nbformat_minor": 2
}
